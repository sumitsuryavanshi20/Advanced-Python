{
 "cells": [
  {
   "cell_type": "code",
   "execution_count": 30,
   "id": "7c2165a1-c8ff-4293-b0de-5c088f7d67a7",
   "metadata": {},
   "outputs": [
    {
     "name": "stdout",
     "output_type": "stream",
     "text": [
      "Requirement already satisfied: qrcode[pil] in c:\\users\\sumit\\anaconda3\\lib\\site-packages (8.1)\n",
      "Requirement already satisfied: colorama in c:\\users\\sumit\\anaconda3\\lib\\site-packages (from qrcode[pil]) (0.4.6)\n",
      "Requirement already satisfied: pillow>=9.1.0 in c:\\users\\sumit\\anaconda3\\lib\\site-packages (from qrcode[pil]) (10.4.0)\n"
     ]
    }
   ],
   "source": [
    "!pip install qrcode[pil]"
   ]
  },
  {
   "cell_type": "code",
   "execution_count": 31,
   "id": "83959ffa-891a-48ed-9f55-24c48c037657",
   "metadata": {},
   "outputs": [],
   "source": [
    "import qrcode as qr"
   ]
  },
  {
   "cell_type": "code",
   "execution_count": 32,
   "id": "1a721baf-834e-45f8-8ca3-74218359926a",
   "metadata": {},
   "outputs": [],
   "source": [
    "img = qr.make(\"https://github.com/sumitsuryavanshi20\")"
   ]
  },
  {
   "cell_type": "code",
   "execution_count": 33,
   "id": "073e325b-9529-4ebe-aab4-f9cedd40d235",
   "metadata": {},
   "outputs": [],
   "source": [
    "qr = qrcode.QRCode(version=1,\n",
    "                   error_correction=qrcode.constants.ERROR_CORRECT_H,\n",
    "                   box_size=10, border=4,)"
   ]
  },
  {
   "cell_type": "code",
   "execution_count": 56,
   "id": "2f1a5fb0-8d6d-468f-b2a1-1fece522153c",
   "metadata": {},
   "outputs": [],
   "source": [
    "img=qr.make_image(fill_color=\"white\",back_color=\"black\")"
   ]
  },
  {
   "cell_type": "code",
   "execution_count": 58,
   "id": "b148088f-375b-44fd-ba9e-cc24db5729fb",
   "metadata": {},
   "outputs": [],
   "source": [
    "qr.make(fit=True)"
   ]
  },
  {
   "cell_type": "code",
   "execution_count": 60,
   "id": "1ed7808c-498d-48d8-8955-651293c07384",
   "metadata": {},
   "outputs": [],
   "source": [
    "img.save(\"SumitSuryavanshi_github.png\")"
   ]
  }
 ],
 "metadata": {
  "kernelspec": {
   "display_name": "Python [conda env:base] *",
   "language": "python",
   "name": "conda-base-py"
  },
  "language_info": {
   "codemirror_mode": {
    "name": "ipython",
    "version": 3
   },
   "file_extension": ".py",
   "mimetype": "text/x-python",
   "name": "python",
   "nbconvert_exporter": "python",
   "pygments_lexer": "ipython3",
   "version": "3.12.7"
  }
 },
 "nbformat": 4,
 "nbformat_minor": 5
}

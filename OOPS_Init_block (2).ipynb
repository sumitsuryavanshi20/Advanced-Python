{
  "nbformat": 4,
  "nbformat_minor": 0,
  "metadata": {
    "colab": {
      "provenance": []
    },
    "kernelspec": {
      "name": "python3",
      "display_name": "Python 3"
    },
    "language_info": {
      "name": "python"
    }
  },
  "cells": [
    {
      "cell_type": "code",
      "execution_count": null,
      "metadata": {
        "colab": {
          "base_uri": "https://localhost:8080/"
        },
        "id": "Q4D4o4XaC0lt",
        "outputId": "40c5e7a9-ce3e-485b-b08b-e8b03a2c981c"
      },
      "outputs": [
        {
          "output_type": "stream",
          "name": "stdout",
          "text": [
            "<class '__main__.computer'>\n"
          ]
        }
      ],
      "source": [
        "class computer:\n",
        "  def config(self):\n",
        "    print(\"i5, 16gb, 1tb\")\n",
        "comp1=computer()\n",
        "print(type(comp1))"
      ]
    },
    {
      "cell_type": "code",
      "source": [
        "a=5\n",
        "print(type(a))"
      ],
      "metadata": {
        "colab": {
          "base_uri": "https://localhost:8080/"
        },
        "id": "3jMWzBsRC_r9",
        "outputId": "ee9435b8-e56f-454c-97a8-4cf4d9a59a31"
      },
      "execution_count": null,
      "outputs": [
        {
          "output_type": "stream",
          "name": "stdout",
          "text": [
            "<class 'int'>\n"
          ]
        }
      ]
    },
    {
      "cell_type": "code",
      "source": [
        "class computer:\n",
        "  def config(self):\n",
        "    print(\"i5, 16gb, 1tb\")\n",
        "comp1=computer()\n",
        "config()"
      ],
      "metadata": {
        "colab": {
          "base_uri": "https://localhost:8080/",
          "height": 176
        },
        "id": "V8dpVUvsDWa4",
        "outputId": "f6863b7e-c05b-4a99-c6f1-8f3f01325099"
      },
      "execution_count": null,
      "outputs": [
        {
          "output_type": "error",
          "ename": "NameError",
          "evalue": "name 'config' is not defined",
          "traceback": [
            "\u001b[0;31m---------------------------------------------------------------------------\u001b[0m",
            "\u001b[0;31mNameError\u001b[0m                                 Traceback (most recent call last)",
            "\u001b[0;32m<ipython-input-13-86f67e540d47>\u001b[0m in \u001b[0;36m<cell line: 0>\u001b[0;34m()\u001b[0m\n\u001b[1;32m      3\u001b[0m     \u001b[0mprint\u001b[0m\u001b[0;34m(\u001b[0m\u001b[0;34m\"i5, 16gb, 1tb\"\u001b[0m\u001b[0;34m)\u001b[0m\u001b[0;34m\u001b[0m\u001b[0;34m\u001b[0m\u001b[0m\n\u001b[1;32m      4\u001b[0m \u001b[0mcomp1\u001b[0m\u001b[0;34m=\u001b[0m\u001b[0mcomputer\u001b[0m\u001b[0;34m(\u001b[0m\u001b[0;34m)\u001b[0m\u001b[0;34m\u001b[0m\u001b[0;34m\u001b[0m\u001b[0m\n\u001b[0;32m----> 5\u001b[0;31m \u001b[0mconfig\u001b[0m\u001b[0;34m(\u001b[0m\u001b[0;34m)\u001b[0m\u001b[0;34m\u001b[0m\u001b[0;34m\u001b[0m\u001b[0m\n\u001b[0m",
            "\u001b[0;31mNameError\u001b[0m: name 'config' is not defined"
          ]
        }
      ]
    },
    {
      "cell_type": "code",
      "source": [
        "class computer:\n",
        "  def config(self):\n",
        "    print(\"i5, 16gb, 1tb\")\n",
        "comp1=computer()\n",
        "computer.config()"
      ],
      "metadata": {
        "colab": {
          "base_uri": "https://localhost:8080/",
          "height": 176
        },
        "id": "RYvLqIljDshO",
        "outputId": "f38b9a40-4281-49df-d6cd-4a849ec9b189"
      },
      "execution_count": null,
      "outputs": [
        {
          "output_type": "error",
          "ename": "TypeError",
          "evalue": "computer.config() missing 1 required positional argument: 'self'",
          "traceback": [
            "\u001b[0;31m---------------------------------------------------------------------------\u001b[0m",
            "\u001b[0;31mTypeError\u001b[0m                                 Traceback (most recent call last)",
            "\u001b[0;32m<ipython-input-14-4e9ab38d8394>\u001b[0m in \u001b[0;36m<cell line: 0>\u001b[0;34m()\u001b[0m\n\u001b[1;32m      3\u001b[0m     \u001b[0mprint\u001b[0m\u001b[0;34m(\u001b[0m\u001b[0;34m\"i5, 16gb, 1tb\"\u001b[0m\u001b[0;34m)\u001b[0m\u001b[0;34m\u001b[0m\u001b[0;34m\u001b[0m\u001b[0m\n\u001b[1;32m      4\u001b[0m \u001b[0mcomp1\u001b[0m\u001b[0;34m=\u001b[0m\u001b[0mcomputer\u001b[0m\u001b[0;34m(\u001b[0m\u001b[0;34m)\u001b[0m\u001b[0;34m\u001b[0m\u001b[0;34m\u001b[0m\u001b[0m\n\u001b[0;32m----> 5\u001b[0;31m \u001b[0mcomputer\u001b[0m\u001b[0;34m.\u001b[0m\u001b[0mconfig\u001b[0m\u001b[0;34m(\u001b[0m\u001b[0;34m)\u001b[0m\u001b[0;34m\u001b[0m\u001b[0;34m\u001b[0m\u001b[0m\n\u001b[0m",
            "\u001b[0;31mTypeError\u001b[0m: computer.config() missing 1 required positional argument: 'self'"
          ]
        }
      ]
    },
    {
      "cell_type": "code",
      "source": [
        "class computer:\n",
        "  def config(self):\n",
        "    print(\"i5, 16gb, 1tb\")\n",
        "comp1=computer()\n",
        "computer.config(comp1)"
      ],
      "metadata": {
        "colab": {
          "base_uri": "https://localhost:8080/"
        },
        "id": "Go_VnheeDxEQ",
        "outputId": "25f84260-5974-4a18-e521-94b9148eb864"
      },
      "execution_count": null,
      "outputs": [
        {
          "output_type": "stream",
          "name": "stdout",
          "text": [
            "i5, 16gb, 1tb\n"
          ]
        }
      ]
    },
    {
      "cell_type": "code",
      "source": [
        "class computer:\n",
        "  def __init__(self):\n",
        "    print(\"in init block\")\n",
        "  def config(self):\n",
        "    print(\"i5, 16gb, 1tb\")\n",
        "comp1=computer()\n",
        "comp2=computer()\n",
        "\n",
        "comp1.config()\n",
        "comp2.config()"
      ],
      "metadata": {
        "colab": {
          "base_uri": "https://localhost:8080/"
        },
        "id": "8lawcS77D4qA",
        "outputId": "7a693846-1acf-4924-f692-9030ae8c4149"
      },
      "execution_count": null,
      "outputs": [
        {
          "output_type": "stream",
          "name": "stdout",
          "text": [
            "in init block\n",
            "in init block\n",
            "i5, 16gb, 1tb\n",
            "i5, 16gb, 1tb\n"
          ]
        }
      ]
    },
    {
      "cell_type": "code",
      "source": [
        "class human:\n",
        "  def walk(self):\n",
        "    print(\"20E, 30S, 40W\")\n",
        "\n",
        "\n",
        "mukesh=human()\n",
        "ramesh=human()\n",
        "ramesh.walk()\n",
        "mukesh.walk()"
      ],
      "metadata": {
        "colab": {
          "base_uri": "https://localhost:8080/"
        },
        "id": "YYTEj0hpD9rp",
        "outputId": "0f6d74b9-fe8b-42e4-b1d0-6f29ebbf5e7d"
      },
      "execution_count": null,
      "outputs": [
        {
          "output_type": "stream",
          "name": "stdout",
          "text": [
            "20L, 30S, 40W\n",
            "20L, 30S, 40W\n"
          ]
        }
      ]
    },
    {
      "cell_type": "code",
      "source": [
        "class human:\n",
        "  def walk(self):\n",
        "    print(\"20L, 30S, 40W\")\n",
        "\n",
        "\n",
        "mukesh=human()\n",
        "ramesh=human()\n",
        "human.walk(ramesh)\n",
        "human.walk(mukesh)"
      ],
      "metadata": {
        "colab": {
          "base_uri": "https://localhost:8080/"
        },
        "id": "bhxmavGsEbgW",
        "outputId": "53b27625-f051-4b6e-aaab-f69972fe0afe"
      },
      "execution_count": null,
      "outputs": [
        {
          "output_type": "stream",
          "name": "stdout",
          "text": [
            "20L, 30S, 40W\n",
            "20L, 30S, 40W\n"
          ]
        }
      ]
    },
    {
      "cell_type": "code",
      "source": [
        "a=5\n",
        "print(type(a))"
      ],
      "metadata": {
        "colab": {
          "base_uri": "https://localhost:8080/"
        },
        "id": "EiOJPTcUGoUY",
        "outputId": "9419c913-3dbb-478b-bae3-eea78642e6d8"
      },
      "execution_count": null,
      "outputs": [
        {
          "output_type": "stream",
          "name": "stdout",
          "text": [
            "<class 'int'>\n"
          ]
        }
      ]
    },
    {
      "cell_type": "code",
      "source": [
        "class rlmgt6t:\n",
        "  def config(self):\n",
        "    print(\"8gb, 128gb, qlcommsd7\")\n",
        "\n",
        "phone1= rlmgt6t()\n",
        "phone2= rlmgt6t()\n",
        "phone3= rlmgt6t()\n",
        "\n",
        "phone1.config()\n",
        "phone2.config()\n",
        "phone2.config()\n",
        "\n"
      ],
      "metadata": {
        "colab": {
          "base_uri": "https://localhost:8080/"
        },
        "id": "-noUT60dq9qu",
        "outputId": "fa86699f-e323-43d0-d064-42d83107257e"
      },
      "execution_count": null,
      "outputs": [
        {
          "output_type": "stream",
          "name": "stdout",
          "text": [
            "8gb, 128gb, qlcommsd7\n",
            "8gb, 128gb, qlcommsd7\n",
            "8gb, 128gb, qlcommsd7\n"
          ]
        }
      ]
    },
    {
      "cell_type": "code",
      "source": [
        "class rlmgt6t:\n",
        "  def __init__(self, ram, rom):\n",
        "    self.ram=ram\n",
        "    self.rom=rom\n",
        "\n",
        "  def config(self):\n",
        "    print(\"config is\",  self.ram, self.rom)\n",
        "\n",
        "phone1= rlmgt6t(\"8gb\", \"128gb\")\n",
        "phone2= rlmgt6t(\"16gb\", \"512gb\")\n",
        "\n",
        "\n",
        "phone1.config()\n",
        "phone2.config()\n"
      ],
      "metadata": {
        "colab": {
          "base_uri": "https://localhost:8080/"
        },
        "id": "lx6xIW8Lyxdd",
        "outputId": "3799a6bb-2567-4212-f139-080afe8a2e31"
      },
      "execution_count": null,
      "outputs": [
        {
          "output_type": "stream",
          "name": "stdout",
          "text": [
            "config is 8gb 128gb\n",
            "config is 16gb 512gb\n"
          ]
        }
      ]
    },
    {
      "cell_type": "code",
      "source": [
        "class rlmgt6t:\n",
        "  def __init__(self, ram, rom, processor):\n",
        "    self.ram=ram\n",
        "    self.rom=rom\n",
        "    self.processor=processor\n",
        "  def config(self):\n",
        "    print(\"config is\",  self.ram, self.rom, self.processor)\n",
        "\n",
        "phone1= rlmgt6t(\"8gb\", \"128gb\", \"qlcommsd7\")\n",
        "phone2= rlmgt6t(\"16gb\", \"512gb\", \"qlcommsd8\")\n",
        "phone3= rlmgt6t(\"12gb\", \"256gb\", \"mediatek dimensity\")\n",
        "\n",
        "phone1.config()\n",
        "phone2.config()\n",
        "phone3.config()\n"
      ],
      "metadata": {
        "colab": {
          "base_uri": "https://localhost:8080/"
        },
        "id": "dgrMIhPOrzGL",
        "outputId": "a9acf4b5-5b63-4a4a-b8c2-27a17186b1d6"
      },
      "execution_count": null,
      "outputs": [
        {
          "output_type": "stream",
          "name": "stdout",
          "text": [
            "config is 8gb 128gb qlcommsd7\n",
            "config is 16gb 512gb qlcommsd8\n",
            "config is 12gb 256gb mediatek dimensity\n"
          ]
        }
      ]
    },
    {
      "cell_type": "code",
      "source": [
        "class Car:\n",
        "    def __init__(self, brand, model):\n",
        "        self.brand = brand\n",
        "        self.model = model\n",
        "\n",
        "    def info(self):\n",
        "        print(f\"Car Brand: {self.brand}    Model: {self.model}\")\n",
        "\n",
        "my_car = Car(\"Toyota\", \"Corolla\")\n",
        "\n",
        "my_car.info()\n"
      ],
      "metadata": {
        "colab": {
          "base_uri": "https://localhost:8080/"
        },
        "id": "XxsWQNE3psLw",
        "outputId": "e618c0d8-ffdd-4650-811a-7a0876d05489"
      },
      "execution_count": null,
      "outputs": [
        {
          "output_type": "stream",
          "name": "stdout",
          "text": [
            "Car Brand: Toyota    Model: Corolla\n"
          ]
        }
      ]
    },
    {
      "cell_type": "code",
      "source": [
        "class Dog:\n",
        "    def __init__(self, name=\"golden\", breed=\"retriever\"):\n",
        "        self.name = name\n",
        "        self.breed = breed\n",
        "\n",
        "    def show_details(self):\n",
        "        print(f\"Dog Name: {self.name}, Breed: {self.breed}\")\n",
        "\n",
        "\n",
        "dog1 = Dog(\"Bruno\", \"Labrador\")\n",
        "dog2 = Dog()\n",
        "dog1.show_details()\n",
        "dog2.show_details()\n"
      ],
      "metadata": {
        "colab": {
          "base_uri": "https://localhost:8080/"
        },
        "id": "5D_m10skriUl",
        "outputId": "725ad968-4bb6-454b-d00a-19edddb62c3d"
      },
      "execution_count": null,
      "outputs": [
        {
          "output_type": "stream",
          "name": "stdout",
          "text": [
            "Dog Name: Bruno, Breed: Labrador\n",
            "Dog Name: golden, Breed: retriever\n"
          ]
        }
      ]
    },
    {
      "cell_type": "code",
      "source": [
        "class Student:\n",
        "    def __init__(self, name, age):\n",
        "        self.name = name\n",
        "        self.age = age\n",
        "\n",
        "    def introduction(self):\n",
        "        print(f\"Hi, Myself {self.name} {self.age} years old.\")\n",
        "\n",
        "\n",
        "student1 = Student(\"Jennie\", 20)\n",
        "student2 = Student(\"Ramya\", 22)\n",
        "\n",
        "student1.introduction()\n",
        "student2.introduction()\n"
      ],
      "metadata": {
        "colab": {
          "base_uri": "https://localhost:8080/"
        },
        "id": "YyywYrP4ry7r",
        "outputId": "1157959d-41e0-4b0f-8559-2dfa916478d2"
      },
      "execution_count": null,
      "outputs": [
        {
          "output_type": "stream",
          "name": "stdout",
          "text": [
            "Hi, Myself Jennie 20 years old.\n",
            "Hi, Myself Ramya 22 years old.\n"
          ]
        }
      ]
    },
    {
      "cell_type": "code",
      "source": [
        "class Laptop:\n",
        "    def __init__(self, brand, ram):\n",
        "        self.brand = brand\n",
        "        self.ram = ram\n",
        "\n",
        "    def upgrade_ram(self, new_ram):\n",
        "        self.ram = new_ram\n",
        "        print(f\"{self.brand} laptop current RAM upgraded to {self.ram}GB RAM\")\n",
        "\n",
        "\n",
        "laptop1 = Laptop(\"Apple\", 16)\n",
        "\n",
        "laptop1.upgrade_ram(32)\n"
      ],
      "metadata": {
        "colab": {
          "base_uri": "https://localhost:8080/"
        },
        "id": "QZ8sO27Tuh6g",
        "outputId": "2fcb258b-f2fa-46f0-d5c8-95d88dee6aa7"
      },
      "execution_count": null,
      "outputs": [
        {
          "output_type": "stream",
          "name": "stdout",
          "text": [
            "Apple laptop current RAM upgraded to 32GB RAM\n"
          ]
        }
      ]
    },
    {
      "cell_type": "markdown",
      "source": [
        "# Important Topics: ***lambda function, exception handling (try-except), oops four pillars***\n",
        "\n",
        "\n",
        "#1. Variables and Constants in Python\n",
        "#2. Purpose of nonlocal Keyword\n",
        "#3.  Types of Operators in Python\n",
        "#4. Use of break and continue Statements\n",
        "#5. looping in python\n",
        "#6. Positional and Keyword Arguments in Python (args, Kwargs)\n",
        "#7. Default Arguments in Python Functions\n",
        "#8. Lambda Functions in Python\n",
        "#9. String formatting: importance (when to be used)\n",
        "#10. Ternary Operators in Python\n",
        "#11. List Comprehension\n",
        "#12. How will you define generators in Python. how do they differ from regular functions?\n",
        "#13. purpose with statement in Python.\n",
        "#14. Python closures, and in what context you can use?\n"
      ],
      "metadata": {
        "id": "aqv343NuAbMf"
      }
    },
    {
      "cell_type": "code",
      "source": [],
      "metadata": {
        "id": "jjid28U5CH6d"
      },
      "execution_count": null,
      "outputs": []
    }
  ]
}